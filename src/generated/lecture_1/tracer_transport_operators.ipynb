{
 "cells": [
  {
   "outputs": [],
   "cell_type": "markdown",
   "source": [
    "# Tracer Transport Operators"
   ],
   "metadata": {}
  },
  {
   "outputs": [],
   "cell_type": "markdown",
   "source": [
    "To model marine biogeochemical processes on a global scale we need to be able to account for the movement of chemical constituents both horizontally and vertically.\n",
    "We do this with a **tracer transport operator**.\n",
    "When this operator acts on a tracer field it produces the advective-diffusive divergence of the tracer."
   ],
   "metadata": {}
  },
  {
   "outputs": [],
   "cell_type": "markdown",
   "source": [
    "## Discretization"
   ],
   "metadata": {}
  },
  {
   "outputs": [],
   "cell_type": "markdown",
   "source": [
    "In order to represent the transport operator on a computer we have to discretize the tracer concentration field and the operator.\n",
    "Once discretized the tracer field is represented as a vector and the operator is represented as a sparse matrix."
   ],
   "metadata": {}
  },
  {
   "outputs": [],
   "cell_type": "markdown",
   "source": [
    "> **Note**\n",
    "> A sparse matrix behaves the same way as a regular matrix.\n",
    "> The only difference is that in a sparse matrix the majority of the entries are zeros.\n",
    "> These zeros are not stored explicitly to save computer memory making it possible to deal with fairly high resolution ocean models."
   ],
   "metadata": {}
  },
  {
   "outputs": [],
   "cell_type": "markdown",
   "source": [
    "Mathematically, the discretization converts an expression with partial derivatives into a matrix vector product:\n",
    "\n",
    "$$\\nabla \\cdot \\left[ \\boldsymbol{u} - \\mathbf{K} \\cdot \\nabla \\right] C \\longrightarrow \\mathbf{T} \\, \\boldsymbol{C}$$\n",
    "\n",
    "where $\\mathbf{T}$ is the flux divergence transport matrix and $\\boldsymbol{C}$ is the tracer concentration vector.\n",
    "\n",
    "One can go a long way towards understanding what a tracer transport operator is by playing with a simple box model. We therefore introuce a simple box model before moving on to the *Ocean Circulation Inverse Model* (OCIM)."
   ],
   "metadata": {}
  },
  {
   "outputs": [],
   "cell_type": "markdown",
   "source": [
    "The simple box model we consider is embeded in a 2×2×2 \"shoebox\".\n",
    "It has 5 *wet* boxes and 3 *dry* boxes, as illustrated below:"
   ],
   "metadata": {}
  },
  {
   "outputs": [],
   "cell_type": "markdown",
   "source": [
    "<img src=\"https://user-images.githubusercontent.com/4486578/58314610-3b130b80-7e53-11e9-9fe8-9527cdcca2d0.png\" width =800>"
   ],
   "metadata": {}
  },
  {
   "outputs": [],
   "cell_type": "markdown",
   "source": [
    "The circulation consists of\n",
    "- a meridional overturning circulation flowing in a cycle through boxes 1 → 2 → 6 → 5 → 1 (shown in the \"meridional section 1\" panel above)\n",
    "- a zonal current in a reentrant cycling through boxes 1 → 3 → 1 (shown in the \"layer 1\" panel above)\n",
    "- vertical mixing representing deep convection between boxes 2 ↔ 6 (not shown)"
   ],
   "metadata": {}
  },
  {
   "outputs": [],
   "cell_type": "markdown",
   "source": [
    "## The transport matrix"
   ],
   "metadata": {}
  },
  {
   "outputs": [],
   "cell_type": "markdown",
   "source": [
    "We start by defining the model boxes, theirs volumes, their indices, and so on:"
   ],
   "metadata": {}
  },
  {
   "outputs": [],
   "cell_type": "code",
   "source": [
    "a = 6367e3   # Earth radius           (m)\n",
    "A = 4*pi*a^2 # Earth surface area     (m²)\n",
    "d = 3700     # ocean depth            (m)\n",
    "V = 0.75*A*d # volume of ocean        (m³)\n",
    "h = 200      # thickness of top layer (m)\n",
    "\n",
    "dz = [h*ones(4,1);(d-h)*ones(4,1)] # grid box thicknesses       (m)\n",
    "dV = (dz/d).*((V/4)*ones(8,1))     # grid box volumes           (m³)\n",
    "dAz = dV./dz                       # area of face ⟂ to z axis   (m²)\n",
    "dy = sqrt.(dAz)                    # north-south side length    (m)\n",
    "dx = sqrt.(dAz)                    # east-west side length      (m)\n",
    "dAx = dV./dy                       # area of face ⟂ to x axis   (m²)\n",
    "dAy = dV./dx                       # area of face ⟂ to y axis   (m²)\n",
    "\n",
    "msk = [1, 1, 1, 0, 1, 1, 0, 0]     # wet-dry mask wet=1 dry = 0\n",
    "iwet = findall(x -> x == 1, msk)        # index to wet gridboxes\n",
    "idry = findall(x -> x == 0, msk)        # index to dry gridboxes\n",
    "srf = [1, 1, 1, 0, 0]              # surface mask srface=1 bottom = 0\n",
    "isrf = findall(x -> x == 1, srf) ;\n",
    "iwet"
   ],
   "metadata": {},
   "execution_count": null
  },
  {
   "outputs": [],
   "cell_type": "markdown",
   "source": [
    "As you can see, `iwet` is the the vector of indices of the wet boxes."
   ],
   "metadata": {}
  },
  {
   "outputs": [],
   "cell_type": "markdown",
   "source": [
    "> **Note**\n",
    "> Julia comes with Unitful, a package for using units, which AIBECS uses.\n",
    "> In the examples where we use AIBECS, we will use Unitful."
   ],
   "metadata": {}
  },
  {
   "outputs": [],
   "cell_type": "markdown",
   "source": [
    "We now create the transport matrix as the flux divergence of the dissolved tracer transport due to the ocean circulation:"
   ],
   "metadata": {}
  },
  {
   "outputs": [],
   "cell_type": "code",
   "source": [
    "using LinearAlgebra\n",
    "using SparseArrays\n",
    "TRdiv = spzeros(8,8)\n",
    "ACC = 100e6  # (m³/s) ACC for Antarctic Circumpoloar Current\n",
    "TRdiv += sparse([1,1], [1,3], dV[1] \\ [ACC, -ACC], 8, 8)\n",
    "TRdiv += sparse([3,3], [3,1], dV[3] \\ [ACC, -ACC], 8, 8)\n",
    "MOC = 15e6    # (m³/s) MOC for Meridional Overturning Circulation\n",
    "TRdiv += sparse([1,1], [1,5], dV[1] \\ [MOC, -MOC], 8, 8)\n",
    "TRdiv += sparse([2,2], [2,1], dV[2] \\ [MOC, -MOC], 8, 8)\n",
    "TRdiv += sparse([5,5], [5,6], dV[5] \\ [MOC, -MOC], 8, 8)\n",
    "TRdiv += sparse([6,6], [6,2], dV[6] \\ [MOC, -MOC], 8, 8)\n",
    "MIX = 10e6      # (m³/s) MIX for vertical mixing at high northern latitudes\n",
    "TRdiv += sparse([2,2], [2,6], dV[2] \\ [MIX, -MIX], 8, 8)\n",
    "TRdiv += sparse([6,6], [6,2], dV[6] \\ [MIX, -MIX], 8, 8)\n",
    "TRdiv = TRdiv[iwet,iwet]\n",
    "Matrix(TRdiv)"
   ],
   "metadata": {},
   "execution_count": null
  },
  {
   "outputs": [],
   "cell_type": "markdown",
   "source": [
    "## Radiocarbon"
   ],
   "metadata": {}
  },
  {
   "outputs": [],
   "cell_type": "markdown",
   "source": [
    "Radiocarbon, ¹⁴C, is produced by cosmic rays in the lower stratosphere and upper troposphere.\n",
    "It quickly reacts with oxygen to produce ¹⁴CO₂, which is then mixed throughout the troposphere and enters the ocean through air–sea gas exchange.\n",
    "Because the halflife of radiocarbon is only 5730 years a significant amount of decay can occur before the dissolved inorganic radiocarbon (DI¹⁴C) can mix uniformally throughout the ocean.\n",
    "As such the ¹⁴C serves as a tracer label for water that was recently in contact with the atmosphere."
   ],
   "metadata": {}
  },
  {
   "outputs": [],
   "cell_type": "markdown",
   "source": [
    "### Tracer Equation"
   ],
   "metadata": {}
  },
  {
   "outputs": [],
   "cell_type": "markdown",
   "source": [
    "Mathematically, the ¹⁴C tracer concentration, denoted $R$ (for Radiocarbon), satisfies the following tracer equation:\n",
    "\n",
    "$$\\frac{\\partial R}{\\partial t} + \\nabla \\cdot \\left[ \\boldsymbol{u} - \\mathbf{K} \\cdot \\nabla \\right] R = \\Lambda(R_\\mathsf{atm} - R) - R / \\tau,$$\n",
    "\n",
    "where $\\Lambda(R_\\mathsf{atm} - R)$ represents the air–sea exchanges and $R / \\tau$ the radioactive decay rate.\n",
    "($\\tau$ is the radioactive decay timescale.)\n",
    "The discretized tracer is thus given by\n",
    "\n",
    "$$\\frac{\\partial \\boldsymbol{R}}{\\partial t} + \\mathbf{T} \\boldsymbol{R} = \\mathbf{\\Lambda}(R_\\mathsf{atm} - \\boldsymbol{R}) - \\boldsymbol{R} / \\tau$$\n",
    "\n",
    "where $\\mathbf{\\Lambda}$ is a diagonal matrix with diagonal elements equal to zero except for surface-layer boxes.\n",
    "We can rearrange this equation as\n",
    "\n",
    "$$\\frac{\\partial \\boldsymbol{R}}{\\partial t} + \\underbrace{\\left[ \\mathbf{T} + \\mathbf{\\Lambda} + \\mathbf{I} / \\tau \\right]}_{\\mathbf{M}} \\, \\boldsymbol{R} = \\boldsymbol{s},$$\n",
    "\n",
    "where $\\boldsymbol{s} = \\mathbf{\\Lambda} \\, \\boldsymbol{1} \\, R_\\mathsf{atm}$ effectively acts as a fixed source of Radiocarbon from the atmosphere.\n",
    "(Here we multiply $\\boldsymbol{1}$, a vector of 1's, to the scalar value of $R_\\mathsf{atm}$ to make sure the matrix $\\mathbf{\\Lambda}$ is applied to a vector, and not a scalar.)\n",
    "\n",
    "The matrix $\\mathbf{M} = \\mathbf{T} + \\mathbf{\\Lambda} + \\mathbf{I} / \\tau$ simplifies notation even more:\n",
    "\n",
    "$$\\frac{\\partial \\boldsymbol{R}}{\\partial t} + \\mathbf{M} \\, \\boldsymbol{R} = \\boldsymbol{s}.$$"
   ],
   "metadata": {}
  },
  {
   "outputs": [],
   "cell_type": "markdown",
   "source": [
    "### Translation to Julia Code"
   ],
   "metadata": {}
  },
  {
   "outputs": [],
   "cell_type": "markdown",
   "source": [
    "We will perform an idealized radiocarbon simulation in our model and use `TRdiv`, defined earlier, for the transport matrix $\\mathbf{T}$.\n",
    "In this model we prescribe the atmospheric concentration, $R_\\mathsf{atm}$, to be simply equal to 1.\n",
    "(We do not specify its unit or its specific value because it is not important for determining the age of a water parcel — only the decay rate does.)\n",
    "For the air–sea gas exchange, we use a constant piston velocity $\\lambda$ of 50m / 10years."
   ],
   "metadata": {}
  },
  {
   "outputs": [],
   "cell_type": "code",
   "source": [
    "sec_per_year = 365*24*60*60 # s / yr\n",
    "λ = 50 / 10sec_per_year     # m / s\n",
    "Λ = λ / h * Diagonal(srf)"
   ],
   "metadata": {},
   "execution_count": null
  },
  {
   "outputs": [],
   "cell_type": "markdown",
   "source": [
    "where the diagonal matrix `Λ` is the discrete version of the air-sea exchange operator, $\\mathbf{\\Lambda}$.\n",
    "We could make it a sparse matrix via"
   ],
   "metadata": {}
  },
  {
   "outputs": [],
   "cell_type": "code",
   "source": [
    "Λ = λ / h * sparse(Diagonal(srf))"
   ],
   "metadata": {},
   "execution_count": null
  },
  {
   "outputs": [],
   "cell_type": "markdown",
   "source": [
    "instead, to save some memory allocations."
   ],
   "metadata": {}
  },
  {
   "outputs": [],
   "cell_type": "markdown",
   "source": [
    "For the radioactive decay we use a timescale $\\tau$ of 5730/log(2) years, which we define via"
   ],
   "metadata": {}
  },
  {
   "outputs": [],
   "cell_type": "code",
   "source": [
    "τ = 5730sec_per_year / log(2)  # s"
   ],
   "metadata": {},
   "execution_count": null
  },
  {
   "outputs": [],
   "cell_type": "markdown",
   "source": [
    "We can now create the matrix $\\mathbf{M}$ via"
   ],
   "metadata": {}
  },
  {
   "outputs": [],
   "cell_type": "code",
   "source": [
    "M = TRdiv + Λ + I / τ"
   ],
   "metadata": {},
   "execution_count": null
  },
  {
   "outputs": [],
   "cell_type": "markdown",
   "source": [
    "and the source term $\\boldsymbol{s}$ via"
   ],
   "metadata": {}
  },
  {
   "outputs": [],
   "cell_type": "code",
   "source": [
    "s = Λ * ones(5) # air-sea source rate"
   ],
   "metadata": {},
   "execution_count": null
  },
  {
   "outputs": [],
   "cell_type": "markdown",
   "source": [
    "(Remember we assumed $R_\\mathsf{atm}$ to be equal to 1.)"
   ],
   "metadata": {}
  },
  {
   "outputs": [],
   "cell_type": "markdown",
   "source": [
    "## Time stepping"
   ],
   "metadata": {}
  },
  {
   "outputs": [],
   "cell_type": "markdown",
   "source": [
    "One way to see how the tracer evolves with time is to time step it.\n",
    "Here we will use a simple Euler-backward scheme.\n",
    "That is, we want to simulate $\\boldsymbol{R}(t)$ from time $t = 0$ to time $t = \\Delta t$, subject to $\\boldsymbol{R}(t = 0) = 1$, using the Euler-backward scheme with $n$ timesteps.\n",
    "\n",
    "We thus discretize the $(0, \\Delta t)$ time span into $n$ time intervals of size $\\delta t = \\Delta t / n$.\n",
    "We apply the Euler-backward scheme, which gives\n",
    "\n",
    "$$\\frac{\\boldsymbol{R}(t_{i+1}) - \\boldsymbol{R}(t_i)}{\\delta t} = - \\mathbf{M} \\, \\boldsymbol{R}(t_{i+1}) + \\boldsymbol{s}$$\n",
    "\n",
    "Reorganizing the equation to express $\\boldsymbol{R}(t_{i+1})$ as a function of the rest, we get\n",
    "\n",
    "$$\\big[\\mathbf{I} + \\delta t \\, \\mathbf{M}\\big] \\, \\boldsymbol{R}(t_{i+1}) = \\boldsymbol{R}(t_i) + \\delta t \\, \\boldsymbol{s}.$$\n",
    "\n",
    "Solving such a linear system is done via the **backslash** operator, `\\`.\n",
    "Let us define the time-stepping function via"
   ],
   "metadata": {}
  },
  {
   "outputs": [],
   "cell_type": "code",
   "source": [
    "euler_backward_step(R, δt, M, s) = (I + δt * M) \\ (R + δt * s)"
   ],
   "metadata": {},
   "execution_count": null
  },
  {
   "outputs": [],
   "cell_type": "markdown",
   "source": [
    "We write another function to run all the time steps and save"
   ],
   "metadata": {}
  },
  {
   "outputs": [],
   "cell_type": "code",
   "source": [
    "function euler_backward(R₀, ΔT, n, M, s)\n",
    "    R_hist = [R₀]\n",
    "    δt = Δt / n\n",
    "    for i in 1:n\n",
    "        push!(R_hist, euler_backward_step(R_hist[end], δt, M, s))\n",
    "    end\n",
    "    return reduce(hcat, R_hist), 0:δt:Δt\n",
    "end"
   ],
   "metadata": {},
   "execution_count": null
  },
  {
   "outputs": [],
   "cell_type": "markdown",
   "source": [
    "> **Note**\n",
    "> We store all the history of `R` in `R_hist`.\n",
    "> At each step, the `push!` function adds a new `R` to `R_hist`.\n",
    "> Technically, `R_hist` is a vector of vectors, so at the end, we horizontally concatenate it via `reduce(hcat, R_hist)` to rearrange it into a 2D array."
   ],
   "metadata": {}
  },
  {
   "outputs": [],
   "cell_type": "markdown",
   "source": [
    "Now let's simulate the evolution of radiocarbon for 7500 years, starting from a concentration of 1 everywhere, via"
   ],
   "metadata": {}
  },
  {
   "outputs": [],
   "cell_type": "code",
   "source": [
    "Δt = 7500 * sec_per_year # 7500 years\n",
    "R₀ = ones(5)             #\n",
    "R_hist, t_hist = euler_backward(R₀, Δt, 10000, M, s) # runs the simulation"
   ],
   "metadata": {},
   "execution_count": null
  },
  {
   "outputs": [],
   "cell_type": "markdown",
   "source": [
    "This should take a few seconds to run.\n",
    "Once it's done, we can plot the evloution of radiocarbon through time via"
   ],
   "metadata": {}
  },
  {
   "outputs": [],
   "cell_type": "code",
   "source": [
    "ENV[\"MPLBACKEND\"]=\"qt5agg\"\n",
    "using PyPlot\n",
    "clf()\n",
    "C14age_hist = -log.(R_hist) * τ / sec_per_year\n",
    "plot(t_hist / sec_per_year, C14age_hist')\n",
    "xlabel(\"simulation time (years)\")\n",
    "ylabel(\"¹⁴C age (years)\")\n",
    "legend(\"box \" .* string.(iwet))\n",
    "title(\"Simulation of the evolution of ¹⁴C age with Euler-backward time steps\")\n",
    "gcf()"
   ],
   "metadata": {},
   "execution_count": null
  },
  {
   "outputs": [],
   "cell_type": "markdown",
   "source": [
    "The box model took more than 4000 years to spin up to equilibrium.\n",
    "For a box model that's no big deal because it is not computationally expensive to run the model, but for a big circulation model waiting for the model to spinup is painful.\n",
    "We therefore want a better way to find the equilibrium solution."
   ],
   "metadata": {}
  },
  {
   "outputs": [],
   "cell_type": "markdown",
   "source": [
    "## Solving Directly for the Steady State"
   ],
   "metadata": {}
  },
  {
   "outputs": [],
   "cell_type": "markdown",
   "source": [
    "One thing we notice is that when the model is at equilibrium, the $\\partial \\boldsymbol{R} / \\partial t$ term vanishes and\n",
    "the steady state solution is simply given by the solution to the following linear system of equations\n",
    "\n",
    "$$\\mathbf{M} \\, \\boldsymbol{R} = \\boldsymbol{s},$$\n",
    "\n",
    "which can be solved by directly inverting the $\\mathbf{M}$ matrix."
   ],
   "metadata": {}
  },
  {
   "outputs": [],
   "cell_type": "code",
   "source": [
    "R_final = M \\ s"
   ],
   "metadata": {},
   "execution_count": null
  },
  {
   "outputs": [],
   "cell_type": "markdown",
   "source": [
    "Converting radiocarbon into years gives the following values"
   ],
   "metadata": {}
  },
  {
   "outputs": [],
   "cell_type": "code",
   "source": [
    "C14age_final = -log.(R_final) * τ / sec_per_year\n",
    "println.(\"box \", iwet, \": \", round.(C14age_final), \" years\");"
   ],
   "metadata": {},
   "execution_count": null
  },
  {
   "outputs": [],
   "cell_type": "markdown",
   "source": [
    "These are exactly the limit that the Radiocarbon age reaches after about 4000 years of simulation!"
   ],
   "metadata": {}
  },
  {
   "outputs": [],
   "cell_type": "markdown",
   "source": [
    "## Exercise"
   ],
   "metadata": {}
  },
  {
   "outputs": [],
   "cell_type": "markdown",
   "source": [
    "Try modifying the strength of the currents of the high latitude convective mixing to see how it affects the ¹⁴C-ages."
   ],
   "metadata": {}
  },
  {
   "outputs": [],
   "cell_type": "markdown",
   "source": [
    "*This notebook was generated using [Literate.jl](https://github.com/fredrikekre/Literate.jl).*"
   ],
   "metadata": {}
  }
 ],
 "nbformat_minor": 3,
 "metadata": {
  "language_info": {
   "file_extension": ".jl",
   "mimetype": "application/julia",
   "name": "julia",
   "version": "1.1.0"
  },
  "kernelspec": {
   "name": "julia-1.1",
   "display_name": "Julia 1.1.0",
   "language": "julia"
  }
 },
 "nbformat": 4
}
