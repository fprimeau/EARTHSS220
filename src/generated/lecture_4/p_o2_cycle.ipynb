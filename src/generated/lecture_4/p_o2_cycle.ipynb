{
 "cells": [
  {
   "outputs": [],
   "cell_type": "markdown",
   "source": [
    "# A Phosphorus Cycling Model"
   ],
   "metadata": {}
  },
  {
   "outputs": [],
   "cell_type": "markdown",
   "source": [
    "## Tracer equations"
   ],
   "metadata": {}
  },
  {
   "outputs": [],
   "cell_type": "markdown",
   "source": [
    "We consider a simple model for the cycling of phosphorus with 3 state variables consisting of phosphate (PO₄) AKA dissolved inorganic phosphorus (DIP), dissolved organic phosphorus (DOP), and particulate organic phosphorus (POP).\n",
    "\n",
    "The dissolved phases are transported by advection and diffusion whereas the particulate phase sinks rapidly down the water column without any appreciable transport by the circulation.\n",
    "\n",
    "The governing equations are:\n",
    "\n",
    "$$\\frac{\\partial}{\\partial t} DIP + \\nabla \\cdot \\left[\\boldsymbol{u} + \\mathbf{K}\\cdot\\nabla \\right] DIP = -\\gamma(DIP) + \\kappa_\\mathsf{D} \\, DOP,$$\n",
    "\n",
    "$$\\frac{\\partial}{\\partial t} DOP + \\nabla \\cdot \\left[\\boldsymbol{u} + \\mathbf{K}\\cdot \\nabla \\right] DOP = \\sigma \\, \\gamma(DIP) + \\kappa_\\mathsf{P} \\, POP - \\kappa_\\mathsf{D} \\, DOP,$$\n",
    "\n",
    "and\n",
    "\n",
    "$$\\frac{\\partial}{\\partial t} POP + \\frac{\\partial}{\\partial z} \\left[w_\\mathsf{P} \\, POP\\right] = (1-\\sigma) \\, \\gamma(DIP) - \\kappa_\\mathsf{P} \\, POP,$$\n",
    "\n",
    "where $\\boldsymbol{u}$ is the fluid velocity and $\\mathbf{K}$ is the eddy-diffusion tensor.\n",
    "Thus, $\\nabla \\cdot \\left[ \\boldsymbol{u} - \\mathbf{K} \\cdot \\nabla \\right]$ is a differential operator that represents the transport by the ocean circulation.\n",
    "The function $\\gamma(DIP)$ represents the biological uptake of DIP by phytoplankton."
   ],
   "metadata": {}
  },
  {
   "outputs": [],
   "cell_type": "markdown",
   "source": [
    "Oxygen participates to this cycle too and satisfies its own tracer equation\n",
    "\n",
    "$$\\frac{\\partial}{\\partial t} DO_2 + \\nabla \\cdot \\left[\\boldsymbol{u} + \\mathbf{K}\\cdot\\nabla \\right] DO_2 = -r_{\\mathsf{O}_2:\\mathsf{P}} \\, \\kappa_\\mathsf{D} \\, DOP + \\Lambda(DO_2 - [O_2]_{\\mathsf{sat}})$$\n",
    "\n",
    "where $\\Lambda$ is the air-sea gas exchange operator."
   ],
   "metadata": {}
  },
  {
   "outputs": [],
   "cell_type": "markdown",
   "source": [
    "These tracer equations depend on a number of scalars, that we list below\n",
    "\n",
    "| Symbol                        | Definition                                                                  |\n",
    "|:------------------------------|:----------------------------------------------------------------------------|\n",
    "| $w_\\mathsf{P}$                | depth dependent particle sinking speed                                      |\n",
    "| $\\sigma$                      | fraction of the organic matter production allocated to the dissolved phase  |\n",
    "| $\\kappa_\\mathsf{D}$           | respiration rate for dissolved organic matter (DOP → DIP)                   |\n",
    "| $\\kappa_\\mathsf{P}$           | dissolution rate for particulate organic matter (POP → DOP)                 |\n",
    "| $r_{\\mathsf{O}_2:\\mathsf{P}}$ | number of moles of O₂ needed to respire 1 mole of DOP                       |"
   ],
   "metadata": {}
  },
  {
   "outputs": [],
   "cell_type": "code",
   "source": [
    "using AIBECS"
   ],
   "metadata": {},
   "execution_count": null
  },
  {
   "outputs": [],
   "cell_type": "markdown",
   "source": [
    "Load the circulation and grid"
   ],
   "metadata": {}
  },
  {
   "outputs": [],
   "cell_type": "code",
   "source": [
    "wet3d, grd, T_Circulation = OCIM1.load() ;"
   ],
   "metadata": {},
   "execution_count": null
  },
  {
   "outputs": [],
   "cell_type": "markdown",
   "source": [
    "Define useful constants and arrays"
   ],
   "metadata": {}
  },
  {
   "outputs": [],
   "cell_type": "code",
   "source": [
    "iwet = indices_of_wet_boxes(wet3d)\n",
    "nb = number_of_wet_boxes(wet3d)\n",
    "v = vector_of_volumes(wet3d, grd)\n",
    "z = vector_of_depths(wet3d, grd)\n",
    "ztop = vector_of_top_depths(wet3d, grd) ;"
   ],
   "metadata": {},
   "execution_count": null
  },
  {
   "outputs": [],
   "cell_type": "markdown",
   "source": [
    "And matrices"
   ],
   "metadata": {}
  },
  {
   "outputs": [],
   "cell_type": "code",
   "source": [
    "DIV = buildDIV(wet3d, iwet, grd)\n",
    "Iabove = buildIabove(wet3d, iwet) ;"
   ],
   "metadata": {},
   "execution_count": null
  },
  {
   "outputs": [],
   "cell_type": "markdown",
   "source": [
    "### Transport matrices"
   ],
   "metadata": {}
  },
  {
   "outputs": [],
   "cell_type": "code",
   "source": [
    "T_DIP(p) = T_Circulation\n",
    "T_DOP(p) = T_Circulation\n",
    "T_DO2(p) = T_Circulation\n",
    "S₀ = buildPFD(ones(nb), DIV, Iabove)\n",
    "S′ = buildPFD(ztop, DIV, Iabove)\n",
    "function T_POP(p)\n",
    "    w₀, w′ = p.w₀, p.w′\n",
    "    return w₀ * S₀ + w′ * S′\n",
    "end\n",
    "T_all = (T_DIP, T_DOP, T_POP, T_DO2) ;"
   ],
   "metadata": {},
   "execution_count": null
  },
  {
   "outputs": [],
   "cell_type": "markdown",
   "source": [
    "Because AIBECS will solve for the steady state solution directly without time-stepping the goverining equations to equilibrium, we don't have any opportunity to specify any intial conditions.\n",
    "Initial conditions are how the total amount of conserved elements get specified in most global biogeochemical modelels.\n",
    "Thus to specify the total inventory of P in AIBECS we add a very weak resporing term to the DIP equation.\n",
    "The time-scale for this restoring term is chosen to be very long compared to the timescale with which the ocean circulation homogenizes a tracer.\n",
    "Because of this long timescale we call it the geological restoring term, but geochemists who work on geological processes don't like that name!\n",
    "In any event the long timescale allows us to prescribe the total inventory of P in a way that yields the same solution we would have gotten had we\n",
    "time-stepped the model to steady-state with the total inventory prescribed by the initial condition."
   ],
   "metadata": {}
  },
  {
   "outputs": [],
   "cell_type": "markdown",
   "source": [
    "### Sources minus sinks"
   ],
   "metadata": {}
  },
  {
   "outputs": [],
   "cell_type": "markdown",
   "source": [
    "##### Geological Restoring"
   ],
   "metadata": {}
  },
  {
   "outputs": [],
   "cell_type": "code",
   "source": [
    "function geores(x, p)\n",
    "    τg, xgeo = p.τg, p.xgeo\n",
    "    return (xgeo .- x) / τg\n",
    "end"
   ],
   "metadata": {},
   "execution_count": null
  },
  {
   "outputs": [],
   "cell_type": "markdown",
   "source": [
    "##### Uptake of phosphate (DIP)"
   ],
   "metadata": {}
  },
  {
   "outputs": [],
   "cell_type": "code",
   "source": [
    "relu(x) = (x .≥ 0) .* x\n",
    "function uptake(DIP, p)\n",
    "    τu, ku, z₀ = p.τu, p.ku, p.z₀\n",
    "    DIP⁺ = relu(DIP)\n",
    "    return 1/τu * DIP⁺.^2 ./ (DIP⁺ .+ ku) .* (z .≤ z₀)\n",
    "end"
   ],
   "metadata": {},
   "execution_count": null
  },
  {
   "outputs": [],
   "cell_type": "markdown",
   "source": [
    "##### Remineralization DOP into DIP"
   ],
   "metadata": {}
  },
  {
   "outputs": [],
   "cell_type": "code",
   "source": [
    "function respiration(DOP, p)\n",
    "    κDOP = p.κDOP\n",
    "    return κDOP * DOP\n",
    "end"
   ],
   "metadata": {},
   "execution_count": null
  },
  {
   "outputs": [],
   "cell_type": "markdown",
   "source": [
    "##### Dissolution of POP into DOP"
   ],
   "metadata": {}
  },
  {
   "outputs": [],
   "cell_type": "code",
   "source": [
    "function dissolution(POP, p)\n",
    "    κPOP = p.κPOP\n",
    "    return κPOP * POP\n",
    "end"
   ],
   "metadata": {},
   "execution_count": null
  },
  {
   "outputs": [],
   "cell_type": "markdown",
   "source": [
    "##### Air-sea gas exchange"
   ],
   "metadata": {}
  },
  {
   "outputs": [],
   "cell_type": "code",
   "source": [
    "dz1 = grd[\"dzt\"][1]               # thickness of the top layer\n",
    "z = vec(grd[\"ZT3d\"])[iwet]        # depth of the gridbox centers\n",
    "using WorldOceanAtlasTools\n",
    "WOA = WorldOceanAtlasTools\n",
    "μDO2sat , σ²DO2sat = WOA.fit_to_grid(grd,2018,\"O2sat\",\"annual\",\"1°\",\"an\") ;\n",
    "DO2sat = vec(μDO2sat)[iwet]\n",
    "function airsea(DO2, p)\n",
    "    κDO2 = p.κDO2\n",
    "    return κDO2 * (z .< 20) .* (DO2sat .- DO2) / dz1\n",
    "end"
   ],
   "metadata": {},
   "execution_count": null
  },
  {
   "outputs": [],
   "cell_type": "markdown",
   "source": [
    "Add them up into sms functions (Sources Minus Sinks)"
   ],
   "metadata": {}
  },
  {
   "outputs": [],
   "cell_type": "code",
   "source": [
    "function sms_DIP(DIP, DOP, POP, DO2, p)\n",
    "    return -uptake(DIP, p) + respiration(DOP, p) + geores(DIP, p)\n",
    "end\n",
    "function sms_DOP(DIP, DOP, POP, DO2, p)\n",
    "    σ = p.σ\n",
    "    return σ * uptake(DIP, p) - respiration(DOP, p) + dissolution(POP, p)\n",
    "end\n",
    "function sms_POP(DIP, DOP, POP, DO2, p)\n",
    "    σ = p.σ\n",
    "    return (1 - σ) * uptake(DIP, p) - dissolution(POP, p)\n",
    "end\n",
    "function sms_DO2(DIP, DOP, POP, DO2, p)\n",
    "    rO2P = p.rO2P\n",
    "    return airsea(DO2,p) + rO2P * (uptake(DIP,p) - respiration(DOP,p))\n",
    "end\n",
    "sms_all = (sms_DIP, sms_DOP, sms_POP, sms_DO2,) # bundles all the source-sink functions in a tuple"
   ],
   "metadata": {},
   "execution_count": null
  },
  {
   "outputs": [],
   "cell_type": "markdown",
   "source": [
    "### Parameters\n",
    "\n",
    "Build the parameters type and p₀"
   ],
   "metadata": {}
  },
  {
   "outputs": [],
   "cell_type": "code",
   "source": [
    "t = empty_parameter_table()    # initialize table of parameters\n",
    "add_parameter!(t, :xgeo, 2.17u\"mmol/m^3\",\n",
    "               variance_obs = ustrip(upreferred(0.1 * 2.17u\"mmol/m^3\"))^2,\n",
    "               description = \"Geological mean P concentration\",\n",
    "               LaTeX = \"\\\\state^\\\\mathrm{geo}\")\n",
    "add_parameter!(t, :τg, 1.0u\"Myr\",\n",
    "               description = \"Geological restoring timescale\",\n",
    "               LaTeX = \"\\\\tau_\\\\mathrm{geo}\")\n",
    "add_parameter!(t, :ku, 10.0u\"μmol/m^3\",\n",
    "               optimizable = true,\n",
    "               description = \"Half-saturation constant (Michaelis-Menten)\",\n",
    "               LaTeX = \"k_\\\\vec{u}\")\n",
    "add_parameter!(t, :z₀, 80.0u\"m\",\n",
    "               description = \"Depth of the euphotic layer base\",\n",
    "               LaTeX = \"z_0\")\n",
    "add_parameter!(t, :w₀, 1.0u\"m/d\",\n",
    "               optimizable = true,\n",
    "               description = \"Sinking velocity at surface\",\n",
    "               LaTeX = \"w_0\")\n",
    "add_parameter!(t, :w′, 1/4.4625u\"d\",\n",
    "               optimizable = true,\n",
    "               description = \"Vertical gradient of sinking velocity\",\n",
    "               LaTeX = \"w'\")\n",
    "add_parameter!(t, :κDOP, 1/0.25u\"yr\",\n",
    "               optimizable = true,\n",
    "               description = \"Remineralization rate constant (DOP to DIP)\",\n",
    "               LaTeX = \"\\\\kappa\")\n",
    "add_parameter!(t, :κPOP, 1/5.25u\"d\",\n",
    "               optimizable = true,\n",
    "               description = \"Dissolution rate constant (POP to DOP)\",\n",
    "               LaTeX = \"\\\\kappa\")\n",
    "add_parameter!(t, :σ, 0.3u\"1\",\n",
    "               description = \"Fraction of quick local uptake recycling\",\n",
    "               LaTeX = \"\\\\sigma\")\n",
    "add_parameter!(t, :τu, 30.0u\"d\",\n",
    "               optimizable = true,\n",
    "               description = \"Maximum uptake rate timescale\",\n",
    "               LaTeX = \"\\\\tau_\\\\vec{u}\")\n",
    "add_parameter!(t, :κDO2, 50u\"m\" / 30u\"d\",\n",
    "               optimizable = false,\n",
    "               description = \"Airsea O2 piston velocity\",\n",
    "               LaTeX = \"\\\\kappa_{\\\\mbox{\\\\tiny DO}_2}\")\n",
    "add_parameter!(t, :rO2P, 175.0,\n",
    "               optimizable = true,\n",
    "               description = \"Moles of O2 consumed per mole of P respired\",\n",
    "               LaTeX = \"r_{\\\\mbox{\\\\tiny O2:C}\")\n",
    "initialize_Parameters_type(t, \"Pcycle_Parameters\")   # Generate the parameter type"
   ],
   "metadata": {},
   "execution_count": null
  },
  {
   "outputs": [],
   "cell_type": "markdown",
   "source": [
    "### Generate state function and Jacobian"
   ],
   "metadata": {}
  },
  {
   "outputs": [],
   "cell_type": "code",
   "source": [
    "nt = length(T_all)    # number of tracers\n",
    "n = nt * nb           # total dimension of the state vector\n",
    "p = Pcycle_Parameters() # parameters\n",
    "x = p.xgeo * ones(n) # initial iterate\n",
    "F, ∇ₓF = state_function_and_Jacobian(T_all, sms_all, nb)"
   ],
   "metadata": {},
   "execution_count": null
  },
  {
   "outputs": [],
   "cell_type": "markdown",
   "source": [
    "and solve"
   ],
   "metadata": {}
  },
  {
   "outputs": [],
   "cell_type": "code",
   "source": [
    "prob = SteadyStateProblem(F, ∇ₓF, x, p)\n",
    "nothing # s = solve(prob, CTKAlg()) # Not working yet"
   ],
   "metadata": {},
   "execution_count": null
  },
  {
   "outputs": [],
   "cell_type": "markdown",
   "source": [
    "unpack state"
   ],
   "metadata": {}
  },
  {
   "outputs": [],
   "cell_type": "code",
   "source": [
    "DIP, DOP, POP, DO2 = state_to_tracers(x, nb, nt) # remove when line below works\n",
    "nothing # DIP, DOP, POP, DO2 = state_to_tracers(s.u, nb, nt)"
   ],
   "metadata": {},
   "execution_count": null
  },
  {
   "outputs": [],
   "cell_type": "markdown",
   "source": [
    "We will plot the concentration of DIP at a given depth horizon"
   ],
   "metadata": {}
  },
  {
   "outputs": [],
   "cell_type": "code",
   "source": [
    "depth = vec(grd[\"zt\"])\n",
    "iz = findfirst(depth .> 200)\n",
    "iz, depth[iz]"
   ],
   "metadata": {},
   "execution_count": null
  },
  {
   "outputs": [],
   "cell_type": "code",
   "source": [
    "DIP_3D = rearrange_into_3Darray(DIP, wet3d)\n",
    "DIP_2D = DIP_3D[:,:,iz] * ustrip(1.0u\"mol/m^3\" |> u\"mmol/m^3\")\n",
    "lat, lon = vec(grd[\"yt\"]), vec(grd[\"xt\"])"
   ],
   "metadata": {},
   "execution_count": null
  },
  {
   "outputs": [],
   "cell_type": "markdown",
   "source": [
    "and plot"
   ],
   "metadata": {}
  },
  {
   "outputs": [],
   "cell_type": "code",
   "source": [
    "ENV[\"MPLBACKEND\"]=\"qt5agg\"\n",
    "using PyPlot, PyCall\n",
    "clf()\n",
    "ccrs = pyimport(\"cartopy.crs\")\n",
    "ax = subplot(projection = ccrs.Robinson(central_longitude=-155.0))\n",
    "ax.coastlines()"
   ],
   "metadata": {},
   "execution_count": null
  },
  {
   "outputs": [],
   "cell_type": "markdown",
   "source": [
    "making it cyclic for Cartopy"
   ],
   "metadata": {}
  },
  {
   "outputs": [],
   "cell_type": "code",
   "source": [
    "lon_cyc = [lon; 360+lon[1]]\n",
    "DIP_2D_cyc = hcat(DIP_2D, DIP_2D[:,1])"
   ],
   "metadata": {},
   "execution_count": null
  },
  {
   "outputs": [],
   "cell_type": "markdown",
   "source": [
    "And plot"
   ],
   "metadata": {}
  },
  {
   "outputs": [],
   "cell_type": "code",
   "source": [
    "p = contourf(lon_cyc, lat, DIP_2D_cyc, levels=0:0.2:3.6, transform=ccrs.PlateCarree(), zorder=-1)\n",
    "colorbar(p, orientation=\"horizontal\");\n",
    "gcf()"
   ],
   "metadata": {},
   "execution_count": null
  },
  {
   "outputs": [],
   "cell_type": "markdown",
   "source": [
    "*This notebook was generated using [Literate.jl](https://github.com/fredrikekre/Literate.jl).*"
   ],
   "metadata": {}
  }
 ],
 "nbformat_minor": 3,
 "metadata": {
  "language_info": {
   "file_extension": ".jl",
   "mimetype": "application/julia",
   "name": "julia",
   "version": "1.1.1"
  },
  "kernelspec": {
   "name": "julia-1.1",
   "display_name": "Julia 1.1.1",
   "language": "julia"
  }
 },
 "nbformat": 4
}
