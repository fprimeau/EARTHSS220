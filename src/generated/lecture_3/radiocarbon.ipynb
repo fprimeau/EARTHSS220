{
 "cells": [
  {
   "outputs": [],
   "cell_type": "markdown",
   "source": [
    "## A simple model for $R \\equiv ^{14}\\!\\!C/^{12}C$ normalized so that $R=1$ in the atmosphere\n",
    "\n",
    "$$ \\frac{\\partial R}{\\partial t} + [\\mathbf{TRdiv}]R = \\kappa\\boldsymbol{\\Lambda}(1-R) -\\lambda R $$"
   ],
   "metadata": {}
  },
  {
   "outputs": [],
   "cell_type": "markdown",
   "source": [
    "Here we will redo the radiocarbon age example, but using the OCIM transport operator made available through the AIBECS package"
   ],
   "metadata": {}
  },
  {
   "outputs": [],
   "cell_type": "code",
   "source": [
    "using AIBECS\n",
    "mask, grd, T_OCIM = OCIM1.load() ;"
   ],
   "metadata": {},
   "execution_count": null
  },
  {
   "outputs": [],
   "cell_type": "markdown",
   "source": [
    "Some useful OCIM stuff"
   ],
   "metadata": {}
  },
  {
   "outputs": [],
   "cell_type": "code",
   "source": [
    "iwet = findall(x -> x == 1, vec(mask));  # index to wet gridboxes\n",
    "dz1 = grd[\"dzt\"][1]                      # thickness of the top layer\n",
    "z = vec(grd[\"ZT3d\"])[iwet]               # depth of the gridbox centers\n",
    "nwet = length(iwet)                      # number of wet grid boxes\n",
    "dv = vec(grd[\"DZT3d\"])[iwet].*vec(grd[\"DYT3d\"])[iwet].*vec(grd[\"DXT3d\"])[iwet]; # volume of the gridboxes\n",
    "lat, lon = vec(grd[\"yt\"]), vec(grd[\"xt\"]); # latitudes and longitudes (useful for plotting)\n",
    "depth = vec(grd[\"zt\"]) ;"
   ],
   "metadata": {},
   "execution_count": null
  },
  {
   "outputs": [],
   "cell_type": "markdown",
   "source": [
    "Make a table of parameters"
   ],
   "metadata": {}
  },
  {
   "outputs": [],
   "cell_type": "code",
   "source": [
    "t = empty_parameter_table()               # initialize table of parameters\n",
    "add_parameter!(t, :λ, 1 / (5730*log(2))u\"yr\") # add the radioactive decay e-folding timescale\n",
    "add_parameter!(t, :κ, 50u\"m\" / 10u\"yr\")\n",
    "initialize_Parameters_type(t, \"C14_Parameters\")             # Generate the parameter table"
   ],
   "metadata": {},
   "execution_count": null
  },
  {
   "outputs": [],
   "cell_type": "markdown",
   "source": [
    "The model parameters"
   ],
   "metadata": {}
  },
  {
   "outputs": [],
   "cell_type": "code",
   "source": [
    "p₀ = C14_Parameters()"
   ],
   "metadata": {},
   "execution_count": null
  },
  {
   "outputs": [],
   "cell_type": "markdown",
   "source": [
    "The sources and sinks of $R$"
   ],
   "metadata": {}
  },
  {
   "outputs": [],
   "cell_type": "code",
   "source": [
    "function sms_14c(R, p)\n",
    "    λ = p.λ\n",
    "    κ = p.κ\n",
    "    return κ * (z .< 20) .* (1.0 .- R) / dz1 - λ.*R\n",
    "end"
   ],
   "metadata": {},
   "execution_count": null
  },
  {
   "outputs": [],
   "cell_type": "markdown",
   "source": [
    "The tracer transport operator"
   ],
   "metadata": {}
  },
  {
   "outputs": [],
   "cell_type": "code",
   "source": [
    "T_14c(p) = T_OCIM"
   ],
   "metadata": {},
   "execution_count": null
  },
  {
   "outputs": [],
   "cell_type": "markdown",
   "source": [
    "Prepare the stuff needed for the AIBECS solver:"
   ],
   "metadata": {}
  },
  {
   "outputs": [],
   "cell_type": "code",
   "source": [
    "T_matrices = (T_14c,)            # bundles all the transport matrices in a tuple\n",
    "sources_minus_sinks = (sms_14c,) # bundles all the source-sink functions in a tuple\n",
    "F, ∇ₓF = state_function_and_Jacobian(T_matrices, sources_minus_sinks, nwet) # generates the state function (and its Jacobian!)"
   ],
   "metadata": {},
   "execution_count": null
  },
  {
   "outputs": [],
   "cell_type": "code",
   "source": [
    "x₀ = ones(nwet)                           # initial iterate for the solver\n",
    "prob = SteadyStateProblem(F, ∇ₓF, x₀, p₀) # define the problem\n",
    "R = solve(prob, CTKAlg())                 # solve the problem\n",
    "c14age = -log.(R)/p₀.λ;                   # convert R to $^{14}C-age$"
   ],
   "metadata": {},
   "execution_count": null
  },
  {
   "outputs": [],
   "cell_type": "markdown",
   "source": [
    "Make some plots"
   ],
   "metadata": {}
  },
  {
   "outputs": [],
   "cell_type": "code",
   "source": [
    "c14age_3d = NaN * mask     # creates a 3D array of NaNs\n",
    "c14age_3d[iwet] = c14age   # Fills the wet grid boxes with the age values\n",
    "size(c14age_3d)            # Just to check the size of age_3D"
   ],
   "metadata": {},
   "execution_count": null
  },
  {
   "outputs": [],
   "cell_type": "markdown",
   "source": [
    "Pick a layer to plot"
   ],
   "metadata": {}
  },
  {
   "outputs": [],
   "cell_type": "code",
   "source": [
    "iz = findfirst(depth .> 700) # aim for a depth of ~ 700 m\n",
    "iz, depth[iz]\n",
    "c14age_3d_1000m_yr = c14age_3d[:,:,iz] * ustrip(1.0u\"s\" |> u\"yr\")"
   ],
   "metadata": {},
   "execution_count": null
  },
  {
   "outputs": [],
   "cell_type": "code",
   "source": [
    "ENV[\"MPLBACKEND\"]=\"qt5agg\"\n",
    "using PyPlot, PyCall"
   ],
   "metadata": {},
   "execution_count": null
  },
  {
   "outputs": [],
   "cell_type": "code",
   "source": [
    "clf()\n",
    "ccrs = pyimport(\"cartopy.crs\")\n",
    "ax = subplot(projection=ccrs.Robinson(central_longitude=-155.0))\n",
    "ax.coastlines()\n",
    "lon_cyc = [lon; 360+lon[1]] # making it cyclic for Cartopy\n",
    "age_cyc = hcat(c14age_3d_1000m_yr, c14age_3d_1000m_yr[:,1])\n",
    "p = contourf(lon_cyc, lat, age_cyc, levels=0:100:1800, transform=ccrs.PlateCarree(), zorder=-1)\n",
    "colorbar(p, orientation=\"horizontal\")\n",
    "gcf() # gets the current figure to display"
   ],
   "metadata": {},
   "execution_count": null
  },
  {
   "outputs": [],
   "cell_type": "markdown",
   "source": [
    "*This notebook was generated using [Literate.jl](https://github.com/fredrikekre/Literate.jl).*"
   ],
   "metadata": {}
  }
 ],
 "nbformat_minor": 3,
 "metadata": {
  "language_info": {
   "file_extension": ".jl",
   "mimetype": "application/julia",
   "name": "julia",
   "version": "1.1.1"
  },
  "kernelspec": {
   "name": "julia-1.1",
   "display_name": "Julia 1.1.1",
   "language": "julia"
  }
 },
 "nbformat": 4
}
