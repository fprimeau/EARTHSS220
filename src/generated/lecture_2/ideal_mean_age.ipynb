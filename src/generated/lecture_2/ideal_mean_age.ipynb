{
 "cells": [
  {
   "outputs": [],
   "cell_type": "markdown",
   "source": [
    "# Ideal mean age"
   ],
   "metadata": {}
  },
  {
   "outputs": [],
   "cell_type": "markdown",
   "source": [
    "## The model"
   ],
   "metadata": {}
  },
  {
   "outputs": [],
   "cell_type": "markdown",
   "source": [
    "We will simulate the ideal mean age of water.\n",
    "That is, the average amount of time since a water parcel had last contact with the surface."
   ],
   "metadata": {}
  },
  {
   "outputs": [],
   "cell_type": "markdown",
   "source": [
    "### Tracer equation\n",
    "\n",
    "The ideal mean age is transported with water, is equal to $0$ at the surface, and increases by one second every second everywhere.\n",
    "In other words, the 3D field of the age, $a$, is governed by the tracer equation\n",
    "\n",
    "$$\\frac{\\partial a}{\\partial t} = - \\nabla \\cdot \\left[ \\boldsymbol{u} - \\mathbf{K} \\cdot \\nabla \\right] a + 1,$$\n",
    "\n",
    "where $\\nabla \\cdot \\left[ \\boldsymbol{u} - \\mathbf{K} \\cdot \\nabla \\right]$ is a differential operator that represents the transport by the ocean circulation.\n",
    "($\\boldsymbol{u}$ is the 3D vector field for the advection and $\\mathbf{K}$ is the diffusivity matrix.)\n",
    "In the equation above, we also assume that there is the boundary condition that $a=0$ at the surface."
   ],
   "metadata": {}
  },
  {
   "outputs": [],
   "cell_type": "markdown",
   "source": [
    "### Discretized tracer equation"
   ],
   "metadata": {}
  },
  {
   "outputs": [],
   "cell_type": "markdown",
   "source": [
    "In AIBECS, the linear differential operator defined by $\\nabla \\cdot \\left[ \\boldsymbol{u} - \\mathbf{K} \\cdot \\nabla \\right]$ is approximated by a constant matrix $\\mathbf{T}$ when discretizing the continuous 3D ocean onto the model grid.\n",
    "This matrix can be small (e.g., for models with a few boxes), or large, like for the OCIM (more on the OCIM later).\n",
    "Similarly, the continuous 3D field of the age, $a$, is discretized into a column-vector, $\\boldsymbol{a}$.\n",
    "(We represent scalars in italic, vectors in bold italic, and matrices in upstraight bold.)"
   ],
   "metadata": {}
  },
  {
   "outputs": [],
   "cell_type": "markdown",
   "source": [
    "In the discrete case, we replace the boundary condition (that $a = 0$ at the surface) by imposing $\\boldsymbol{a} = 0$ in the surface layer of the model grid.\n",
    "In practice, this is done by restoring $\\boldsymbol{a}$ to $0$ with a very short timescale.\n",
    "The tracer equation thgus takes the form of\n",
    "\n",
    "$$\\frac{\\partial\\boldsymbol{a}}{\\partial t} = -\\mathbf{T} \\, \\boldsymbol{a} + 1 - \\boldsymbol{a} / \\tau,$$\n",
    "\n",
    "where $\\tau$ will be chosen to be very small, ensuring that $\\boldsymbol{a}$ is very close to $0$ at the surface.\n",
    "The first term represents the transport by the ocean circulation, the second term the source of 1 second per second everywhere, and the last term the fast relaxation."
   ],
   "metadata": {}
  },
  {
   "outputs": [],
   "cell_type": "markdown",
   "source": [
    "### Steady-state"
   ],
   "metadata": {}
  },
  {
   "outputs": [],
   "cell_type": "markdown",
   "source": [
    "The steady-state is the equilibrium that would be reached if we wait long enough for $a$ to not change anymore.\n",
    "Mathematically, the steady-state is also the state for which\n",
    "\n",
    "$$\\frac{\\partial a}{\\partial t} = 0.$$"
   ],
   "metadata": {}
  },
  {
   "outputs": [],
   "cell_type": "markdown",
   "source": [
    "Computationally, in the discrete case, this means that we just need to solve\n",
    "\n",
    "$$0 = -\\mathbf{T} \\, \\boldsymbol{a} + 1 - \\boldsymbol{a} / \\tau$$\n",
    "\n",
    "to find $\\boldsymbol{a}$.\n",
    "More specifically, we need to solve\n",
    "\n",
    "$$(\\mathbf{T} + \\mathbf{I} / \\tau) \\, \\boldsymbol{a} = 1.$$"
   ],
   "metadata": {}
  },
  {
   "outputs": [],
   "cell_type": "markdown",
   "source": [
    "Now that we have the equations laid down, let us chose the circulation transport matrix, $\\mathbf{T}$."
   ],
   "metadata": {}
  },
  {
   "outputs": [],
   "cell_type": "markdown",
   "source": [
    "## Using AIBECS"
   ],
   "metadata": {}
  },
  {
   "outputs": [],
   "cell_type": "markdown",
   "source": [
    "> **Note**\n",
    "> If this is the first time you are trying AIBECS, make sure you go through the prerequisites!"
   ],
   "metadata": {}
  },
  {
   "outputs": [],
   "cell_type": "markdown",
   "source": [
    "AIBECS can interpret tracer equations as long as you arrange them under the generic form:\n",
    "\n",
    "$$\\frac{\\partial \\boldsymbol{x}}{\\partial t} = \\boldsymbol{F}(\\boldsymbol{x}, \\boldsymbol{p}),$$\n",
    "\n",
    "where $\\boldsymbol{F}(\\boldsymbol{x}, \\boldsymbol{p})$ is the rate of change of the state and $\\boldsymbol{p}$ is the vector of model parameters.\n",
    "We only track the age here, so that the entire state of the system is determined by the age itself.\n",
    "In other words, here, $\\boldsymbol{x} = \\boldsymbol{a}$."
   ],
   "metadata": {}
  },
  {
   "outputs": [],
   "cell_type": "markdown",
   "source": [
    "We will use AIBECS to find the steady-state of the system.\n",
    "For AIBECS, this translates into finding the solution of $\\boldsymbol{F}(\\boldsymbol{x}, \\boldsymbol{p}) = 0$."
   ],
   "metadata": {}
  },
  {
   "outputs": [],
   "cell_type": "markdown",
   "source": [
    "We start by telling Julia that we want to use the AIBECS package via"
   ],
   "metadata": {}
  },
  {
   "outputs": [],
   "cell_type": "code",
   "source": [
    "using AIBECS"
   ],
   "metadata": {},
   "execution_count": null
  },
  {
   "outputs": [],
   "cell_type": "markdown",
   "source": [
    "> **Note**\n",
    "> If it's the first time you are running this line, the package will need precompiling.\n",
    "> This may take a minute or two.\n",
    "> (Just be patient... Or read on while you wait!)\n",
    "\n",
    "> **Note**\n",
    "> You should see a `Warning` for the `Flatten` package — just disregard it...\n",
    "> If you get an error though, please send me a copy of the output/error message, and I will try to troubleshoot it."
   ],
   "metadata": {}
  },
  {
   "outputs": [],
   "cell_type": "markdown",
   "source": [
    "### The circulation"
   ],
   "metadata": {}
  },
  {
   "outputs": [],
   "cell_type": "markdown",
   "source": [
    "We will use the circulation output from the Ocean Circulation Inverse Model (OCIM) version 1.1.\n",
    "Basically, the OCIM provides researchers and oceanographers with a big sparse matrix that represents the global ocean circulation (advection and diffusion), which allows them to efficiently simulate the transport of passive tracers, like the age.\n",
    "(For more details, see Tim DeVries's [website](https://tdevries.eri.ucsb.edu/models-and-data-products/) and references therein.)\n",
    "With AIBECS, the OCIM circulation can be loaded really easily, by simply typing"
   ],
   "metadata": {}
  },
  {
   "outputs": [],
   "cell_type": "code",
   "source": [
    "wet3d, grd, T_OCIM = AIBECS.OCIM1.load()\n",
    "typeof(T_OCIM), size(T_OCIM)"
   ],
   "metadata": {},
   "execution_count": null
  },
  {
   "outputs": [],
   "cell_type": "markdown",
   "source": [
    "> **Note**\n",
    "> Julia may ask you to download the OCIM matrix for you, in which case you should say yes (i.e., type `y`).\n",
    "> Once downloaded, AIBECS will remember where it downloaded the file and it will only load it from your laptop.\n",
    "\n",
    "Additionally to downloading the OCIM file, the `load()` command loads 3 variables in the Julia workspace:\n",
    "- `wet3d` — a 3D array of the model grid, filled with `1`'s at \"wet\" grid boxes and `0`'s and \"land\" grid boxes.\n",
    "- `grd` — a dictionary containing information about the 3D grid of the OCIM circulation, like the latitude, longitude, and depth of each grid boxes. `grd` is a dictionary (i.e., a `Dict` in Julia, which is equivalent to a `struct` in MATLAB or a `dict` in python).\n",
    "- `T_OCIM` — the transport matrix representing advection and diffusion.\n",
    "\n",
    "The second line in command above tells you the type and the size of `T_OCIM`.\n",
    "It is a sparse matrix (CSC just means that it is stored in Compressed Sparse Column format) and is quite big!\n",
    "> **Note**\n",
    "> A sparse matrix is just a matrix with very few non-zero entries.\n",
    "> Computationally, sparse matrices are stored differently than full matrices to save memory (no need to save all those zeros), and are much faster to use too!"
   ],
   "metadata": {}
  },
  {
   "outputs": [],
   "cell_type": "markdown",
   "source": [
    "Anyway, this looks good, so let's move on with setting up the model!\n",
    "\n",
    "We have already loaded the transport matrix, `T_OCIM`, for the ocean circulation, but we must tell AIBECS that it applies to the age.\n",
    "To do that, we define a function of the parameters (although there are no parameters involved in this case, this is just the way AIBECS works for the moment)."
   ],
   "metadata": {}
  },
  {
   "outputs": [],
   "cell_type": "code",
   "source": [
    "T_age(p) = T_OCIM"
   ],
   "metadata": {},
   "execution_count": null
  },
  {
   "outputs": [],
   "cell_type": "markdown",
   "source": [
    "(Functions in Julia can be created in one line, just as above.)\n",
    "That's it for the circulation.\n",
    "Now, let's define the local sources and sinks."
   ],
   "metadata": {}
  },
  {
   "outputs": [],
   "cell_type": "markdown",
   "source": [
    "### The local sources and sinks"
   ],
   "metadata": {}
  },
  {
   "outputs": [],
   "cell_type": "markdown",
   "source": [
    "We will denote the age, $\\boldsymbol{a}$, by the variable `age` in Julia.\n",
    "(It's good practice to use explicit names!)\n",
    "We need to translate the local sources and sinks in our discretized state function $\\boldsymbol{F}(\\boldsymbol{x}, \\boldsymbol{p})$ into Julia code."
   ],
   "metadata": {}
  },
  {
   "outputs": [],
   "cell_type": "markdown",
   "source": [
    "#### The source"
   ],
   "metadata": {}
  },
  {
   "outputs": [],
   "cell_type": "markdown",
   "source": [
    "Remember the age increases by $1$ second every second and everywhere.\n",
    "So its source function is equal to, well, `1`! (seconds per seconds means it is unitless).\n",
    "Let's create the local source function:"
   ],
   "metadata": {}
  },
  {
   "outputs": [],
   "cell_type": "code",
   "source": [
    "source_age(age, p) = 1"
   ],
   "metadata": {},
   "execution_count": null
  },
  {
   "outputs": [],
   "cell_type": "markdown",
   "source": [
    "#### The sink"
   ],
   "metadata": {}
  },
  {
   "outputs": [],
   "cell_type": "markdown",
   "source": [
    "Recall that the age must also be $0$ at the surface.\n",
    "And that we implement this boundary condition by restoring the age very fast to $0$ in the surface layer.\n",
    "This will act as the sink for the age.\n",
    "But first, we need to figure out where \"the surface layer\" is.\n",
    "To do that, AIBECS can generate a number of useful constants for you.\n",
    "(You can see the list of functions by typing `varinfo(AIBECS)` at the REPL.)\n",
    "Here we will use the vector of grid box depths, `z`, which AIBECS can generate for us via"
   ],
   "metadata": {}
  },
  {
   "outputs": [],
   "cell_type": "code",
   "source": [
    "z = vector_of_depths(wet3d, grd)"
   ],
   "metadata": {},
   "execution_count": null
  },
  {
   "outputs": [],
   "cell_type": "markdown",
   "source": [
    "So what is the top layer?\n",
    "Let's investigate what's the minimum depth:"
   ],
   "metadata": {}
  },
  {
   "outputs": [],
   "cell_type": "code",
   "source": [
    "minimum(z)"
   ],
   "metadata": {},
   "execution_count": null
  },
  {
   "outputs": [],
   "cell_type": "markdown",
   "source": [
    "The surface layer in the OCIM grid has its center at about $18\\,$m depth.\n",
    "We can create a mask of the surface layer via `z .< 20`.\n",
    "(This will return a vector of `0`s and `1`s, depending on whether the depth, `z`, is less than `20`.)\n",
    "\n",
    "> **Note**\n",
    "> In Julia (like in MATLAB), placing a dot, `.`, in front of operators is a convenient way to do element-wise operations.\n",
    "\n",
    "Then, we implement the local sink by restoring the age to `0` with a timescale `τ`, via"
   ],
   "metadata": {}
  },
  {
   "outputs": [],
   "cell_type": "code",
   "source": [
    "function sink_age(age, p)\n",
    "    τ = p.τ\n",
    "    return age .* (z .< 20) / τ\n",
    "end"
   ],
   "metadata": {},
   "execution_count": null
  },
  {
   "outputs": [],
   "cell_type": "markdown",
   "source": [
    "> **Note**\n",
    "> Julia allows you to use unicode for your functions and variables, like for `τ`.\n",
    "\n",
    "Here, we have defined a Julia function using the `function` keyword because the sink is a bit more complicated, so that we needed two lines to define it.\n",
    "The first line unpacks the model parameters, which is just the restoring timescale, `τ`, in this case.\n",
    "We will chose the value for `τ` later."
   ],
   "metadata": {}
  },
  {
   "outputs": [],
   "cell_type": "markdown",
   "source": [
    "#### Net sources and sinks"
   ],
   "metadata": {}
  },
  {
   "outputs": [],
   "cell_type": "markdown",
   "source": [
    "The sources minus the sinks are simply defined by"
   ],
   "metadata": {}
  },
  {
   "outputs": [],
   "cell_type": "code",
   "source": [
    "sms_age(age, p) = source_age(age, p) .- sink_age(age, p)"
   ],
   "metadata": {},
   "execution_count": null
  },
  {
   "outputs": [],
   "cell_type": "markdown",
   "source": [
    "#### Model parameters"
   ],
   "metadata": {}
  },
  {
   "outputs": [],
   "cell_type": "markdown",
   "source": [
    "We must define the parameters... And AIBECS comes with an API for that!"
   ],
   "metadata": {}
  },
  {
   "outputs": [],
   "cell_type": "code",
   "source": [
    "t = empty_parameter_table()    # initialize table of parameters\n",
    "add_parameter!(t, :τ, 1u\"s\")   # add the parameter we want (τ = 1s)\n",
    "initialize_Parameters_type(t, \"IdealAgeParameters\")  # Generate the parameter type\n",
    "t"
   ],
   "metadata": {},
   "execution_count": null
  },
  {
   "outputs": [],
   "cell_type": "markdown",
   "source": [
    "Note, in particular, that we gave our parameter `τ` a unit.\n",
    "Yes, Julia comes with some nice functionality to deal with units directly!\n",
    "The lines above created a table that contains all the info for generating the parameters vector, $\\boldsymbol{p}$.\n",
    "To generate the parameters in AIBECS we do:"
   ],
   "metadata": {}
  },
  {
   "outputs": [],
   "cell_type": "code",
   "source": [
    "p₀ = IdealAgeParameters()"
   ],
   "metadata": {},
   "execution_count": null
  },
  {
   "outputs": [],
   "cell_type": "markdown",
   "source": [
    "where we have used the constructor `IdealAgeParameters`, whose name we defined in the previous cell.\n",
    "Here we did not really need to create `p₀` as a parameters vector, since it has only one element, `τ`, in it.\n",
    "However, we are here to learn, and this structure and functionality comes in very handy when one deals with many parameters.\n",
    "(And as you can imagine, having all the parameters in a nice table ready for being used in a publication comes quite handy!)"
   ],
   "metadata": {}
  },
  {
   "outputs": [],
   "cell_type": "markdown",
   "source": [
    "#### State function and Jacobian"
   ],
   "metadata": {}
  },
  {
   "outputs": [],
   "cell_type": "markdown",
   "source": [
    "Similarly to `p₀`, let's create a state `x₀` to start with.\n",
    "The vector `x₀` will be our initial guess for the state.\n",
    "Let's assume that the age is `1` (seconds) everywhere (as an initial guess):"
   ],
   "metadata": {}
  },
  {
   "outputs": [],
   "cell_type": "code",
   "source": [
    "nb = number_of_wet_boxes(wet3d)  # number of wet boxes\n",
    "x₀ = ones(nb)"
   ],
   "metadata": {},
   "execution_count": null
  },
  {
   "outputs": [],
   "cell_type": "markdown",
   "source": [
    "The first line above defines the number of wet grid boxes, `nb`.\n",
    "Here, this is also the length of the state vector `x`, because there is only one tracer, `age`.\n",
    "In the second line, the `ones` function creates a vector of `1`s of the size you give it (the number of wet grid boxes, `nb`, here, which we defined earlier)."
   ],
   "metadata": {}
  },
  {
   "outputs": [],
   "cell_type": "markdown",
   "source": [
    "Finally, the last step for the set up is to define $\\boldsymbol{F}$.\n",
    "Using AIBECS, this is done via"
   ],
   "metadata": {}
  },
  {
   "outputs": [],
   "cell_type": "code",
   "source": [
    "T_matrices = (T_age,)           # bundles all the transport matrices in a tuple\n",
    "sources_minus_sinks = (sms_age,) # bundles all the source-sink functions in a tuple\n",
    "F, ∇ₓF = state_function_and_Jacobian(T_matrices, sources_minus_sinks, nb) # generates the state function (and its Jacobian!)\n",
    "F(x₀,p₀)"
   ],
   "metadata": {},
   "execution_count": null
  },
  {
   "outputs": [],
   "cell_type": "markdown",
   "source": [
    "That's it!\n",
    "We have just created a model of the mean age.\n",
    "\n",
    "\n",
    "Lines 2 and 3 are just telling AIBECS\n",
    "- what transport matrices it should use for the transport of these tracers, and\n",
    "- and what local sources and sinks should be appplied to these tracers\n",
    "\n",
    "> **Note**\n",
    "> The `(x,)` syntax returns a tuple of one element — the comma is necessary because without it, `(x)` would be just like `x` with brackets around it.\n",
    "> This interface of AIBECS was developed for case with multiple tracers in mind, and might look a bit odd for a single tracer.\n",
    "> But in the future, this might be cleaned up to be easier to work with single tracers."
   ],
   "metadata": {}
  },
  {
   "outputs": [],
   "cell_type": "markdown",
   "source": [
    "The fourth line creates two functions:\n",
    "- `F` — the numerical version of the **state function**, $\\boldsymbol{F}$, of our model of the mean age, and\n",
    "- `∇ₓF` — the **Jacobian matrix** of the state function, i.e., $\\nabla_{\\boldsymbol{x}}\\boldsymbol{F}$.\n",
    "Yes, AIBECS just automatically created an exact derivative of your input, using autodifferentiation via dual numbers.\n",
    "(I'd be very excited to detail how this is implemented here, but it is an entirely different discussion.)"
   ],
   "metadata": {}
  },
  {
   "outputs": [],
   "cell_type": "markdown",
   "source": [
    "The last line just checks that our generated `F` works with our initial guess `x₀` and parameter vector `p₀`."
   ],
   "metadata": {}
  },
  {
   "outputs": [],
   "cell_type": "markdown",
   "source": [
    "#### Solving for the steady-state"
   ],
   "metadata": {}
  },
  {
   "outputs": [],
   "cell_type": "markdown",
   "source": [
    "The Jacobian, `∇ₓF` is essential to solving the steady-state equation $\\boldsymbol{F}(\\boldsymbol{x}, \\boldsymbol{p}) = 0$ fast.\n",
    "Specifically, solving $\\boldsymbol{F}(\\boldsymbol{x}, \\boldsymbol{p}) = 0$ is done via Newton's method.\n",
    "By starting from an initial guess, that you will have to provide, it will iterate over this recursion relation\n",
    "\n",
    "$$\\boldsymbol{x}_{k+1} = \\boldsymbol{x}_{k} - \\nabla_{\\boldsymbol{x}}\\boldsymbol{F}(\\boldsymbol{x}_{k}, \\boldsymbol{p})^{-1} \\boldsymbol{F}(\\boldsymbol{x}_{k}, \\boldsymbol{p})$$\n",
    "\n",
    "until $\\boldsymbol{F}(\\boldsymbol{x}_{k}, \\boldsymbol{p})$ is sufficiently small.\n",
    "Now I should note that here, our age model is linear in $x$ (or `age` in our code), so that the solution will be found in a single iteration, or a sinle \"matrix inversion\", as could be seen from our steady-state equation for $\\boldsymbol{a}$."
   ],
   "metadata": {}
  },
  {
   "outputs": [],
   "cell_type": "markdown",
   "source": [
    "> **Note**\n",
    "> AIBECS comes with a built-in algorithm and an API to solve for the steady-state, so you don't have to worry about all these details!"
   ],
   "metadata": {}
  },
  {
   "outputs": [],
   "cell_type": "markdown",
   "source": [
    "##### Define the Steady-state problem in AIBECS"
   ],
   "metadata": {}
  },
  {
   "outputs": [],
   "cell_type": "markdown",
   "source": [
    "First, we create an instance of the steady-state problem, via"
   ],
   "metadata": {}
  },
  {
   "outputs": [],
   "cell_type": "code",
   "source": [
    "prob = SteadyStateProblem(F, ∇ₓF, x₀, p₀)"
   ],
   "metadata": {},
   "execution_count": null
  },
  {
   "outputs": [],
   "cell_type": "markdown",
   "source": [
    "where we have simply provided the state function, $\\boldsymbol{F}$, the Jacobian, $\\nabla_{\\boldsymbol{x}}\\boldsymbol{F}$, the initial guess and the parameters.\n",
    "The `SteadyStateProblem` function is a standard \"DiffEqBase\" constructor that I have overloaded in my package so that you can easily generate the model here."
   ],
   "metadata": {}
  },
  {
   "outputs": [],
   "cell_type": "markdown",
   "source": [
    "##### Solve for the steady-state with AIBECS"
   ],
   "metadata": {}
  },
  {
   "outputs": [],
   "cell_type": "markdown",
   "source": [
    "Finally, we can find the solution in litterally one line, via the `solve` function:"
   ],
   "metadata": {}
  },
  {
   "outputs": [],
   "cell_type": "code",
   "source": [
    "age = solve(prob, CTKAlg())"
   ],
   "metadata": {},
   "execution_count": null
  },
  {
   "outputs": [],
   "cell_type": "markdown",
   "source": [
    "Here, I have provided the `solve` function with two things:\n",
    "- the problem, `prob`, which we just defined, and\n",
    "- the quasi-Newton algorithm that I wrote in Julia, denoted by `CTKAlg()` after C.T. Kelley, who originally wrote it in MATLAB.\n",
    "\n",
    "The last line should take about 10 seconds to 1 minute, depending on your laptop.\n",
    "That's it!\n",
    "We solved for the steady state!\n",
    "Everyone here deserves a nice tap on the shoulder — Good job!\n",
    "Now let's see what this age looks like on a map"
   ],
   "metadata": {}
  },
  {
   "outputs": [],
   "cell_type": "markdown",
   "source": [
    "## Figures"
   ],
   "metadata": {}
  },
  {
   "outputs": [],
   "cell_type": "markdown",
   "source": [
    "We will plot a horizontal slice of the age at about 1000m depth using Cartopy."
   ],
   "metadata": {}
  },
  {
   "outputs": [],
   "cell_type": "markdown",
   "source": [
    "First, we must rearrange `age` into the 3D model grid.\n",
    "For that we will need the vector of the indices of wet points in the 3D grid, which we will denote by `iwet`, and which AIBECS generates via"
   ],
   "metadata": {}
  },
  {
   "outputs": [],
   "cell_type": "code",
   "source": [
    "iwet = indices_of_wet_boxes(wet3d)"
   ],
   "metadata": {},
   "execution_count": null
  },
  {
   "outputs": [],
   "cell_type": "markdown",
   "source": [
    "We then rearrange the column vector `age` into a 3D array via"
   ],
   "metadata": {}
  },
  {
   "outputs": [],
   "cell_type": "code",
   "source": [
    "age_3D = NaN * wet3d # creates a 3D array of NaNs of the same size as `wet3d`\n",
    "age_3D[iwet] = age   # Fills the wet grid boxes with the age values\n",
    "size(age_3D)         # Just to check the size of age_3D"
   ],
   "metadata": {},
   "execution_count": null
  },
  {
   "outputs": [],
   "cell_type": "markdown",
   "source": [
    "The last line just shows you the size of `age_3D`, which is a 3D-array as expected."
   ],
   "metadata": {}
  },
  {
   "outputs": [],
   "cell_type": "markdown",
   "source": [
    "Now let us find the index of the depth that is closest to $1000\\,$m.\n",
    "To do that we must use the depth information contained in `grd`.\n",
    "Let us first create a small vector of the depths of the grid:"
   ],
   "metadata": {}
  },
  {
   "outputs": [],
   "cell_type": "code",
   "source": [
    "depth = vec(grd[\"zt\"])"
   ],
   "metadata": {},
   "execution_count": null
  },
  {
   "outputs": [],
   "cell_type": "markdown",
   "source": [
    "We could count the index of the entry we want, but here we will use the `findfirst` function to find the first depth index that is greater than 1000m.\n",
    "(Feel free to change the value of `iz` if you want to see a slice at another depth.)"
   ],
   "metadata": {}
  },
  {
   "outputs": [],
   "cell_type": "code",
   "source": [
    "iz = findfirst(depth .> 1000)\n",
    "iz, depth[iz]"
   ],
   "metadata": {},
   "execution_count": null
  },
  {
   "outputs": [],
   "cell_type": "markdown",
   "source": [
    "We get `iz = 13`, which is a layer that lies at 1104m, close to 1000m like we wanted.\n",
    "\n",
    "Finally, we need the latitude and longitudes of the grid, contained in `grd`.\n",
    "As for `depth`, we can use the OCIM's `grd` output:"
   ],
   "metadata": {}
  },
  {
   "outputs": [],
   "cell_type": "code",
   "source": [
    "lat, lon = vec(grd[\"yt\"]), vec(grd[\"xt\"])"
   ],
   "metadata": {},
   "execution_count": null
  },
  {
   "outputs": [],
   "cell_type": "markdown",
   "source": [
    "So these are the latitudes and longitudes of the map we are about to plot."
   ],
   "metadata": {}
  },
  {
   "outputs": [],
   "cell_type": "markdown",
   "source": [
    "A last thing we can do is convert the age from seconds, `u\"s\"`, to years, `u\"yr\"`, because the age is large.\n",
    "This can be done via the Unitful package (loaded automatically by AIBECS)."
   ],
   "metadata": {}
  },
  {
   "outputs": [],
   "cell_type": "code",
   "source": [
    "age_3d_1000m_yr = age_3D[:,:,iz] * ustrip(1.0u\"s\" |> u\"yr\")"
   ],
   "metadata": {},
   "execution_count": null
  },
  {
   "outputs": [],
   "cell_type": "markdown",
   "source": [
    "Finally! Let's have a look at this ideal mean age!\n",
    "To make figures, here, we use Cartopy.\n",
    "(You should have installed Cartopy if you went through the prerequisites correctly).\n",
    "To use it we simply type"
   ],
   "metadata": {}
  },
  {
   "outputs": [],
   "cell_type": "code",
   "source": [
    "ENV[\"MPLBACKEND\"]=\"qt5agg\"\n",
    "using PyPlot, PyCall"
   ],
   "metadata": {},
   "execution_count": null
  },
  {
   "outputs": [],
   "cell_type": "markdown",
   "source": [
    "> **Note**\n",
    "> The first line is needed for Mac users.\n",
    "> It's a bug that should eventually be resolved, but for now this seems to make it work."
   ],
   "metadata": {}
  },
  {
   "outputs": [],
   "cell_type": "markdown",
   "source": [
    "We import cartopy, define a new plot, add some coastlines because they are pretty, and add our slice of age at 1000m depth to it via"
   ],
   "metadata": {}
  },
  {
   "outputs": [],
   "cell_type": "code",
   "source": [
    "clf()\n",
    "ccrs = pyimport(\"cartopy.crs\")\n",
    "ax = subplot(projection=ccrs.Robinson(central_longitude=-155.0))\n",
    "ax.coastlines()\n",
    "lon_cyc = [lon; 360+lon[1]] # making it cyclic for Cartopy\n",
    "age_cyc = hcat(age_3d_1000m_yr, age_3d_1000m_yr[:,1])\n",
    "p = contourf(lon_cyc, lat, age_cyc, levels=0:100:1200, transform=ccrs.PlateCarree(), zorder=-1)\n",
    "colorbar(p, orientation=\"horizontal\")\n",
    "gcf() # gets the current figure to display"
   ],
   "metadata": {},
   "execution_count": null
  },
  {
   "outputs": [],
   "cell_type": "markdown",
   "source": [
    "That's it!\n",
    "Good job!\n",
    "\n",
    "At 1000m, the age ranges from a few years below deep water formation regions (Wedell Sea, North Atlantic), and reaches a dozen of centuries in the North Pacific!\n",
    "This is pretty good for so little work!"
   ],
   "metadata": {}
  },
  {
   "outputs": [],
   "cell_type": "markdown",
   "source": [
    "*This notebook was generated using [Literate.jl](https://github.com/fredrikekre/Literate.jl).*"
   ],
   "metadata": {}
  }
 ],
 "nbformat_minor": 3,
 "metadata": {
  "language_info": {
   "file_extension": ".jl",
   "mimetype": "application/julia",
   "name": "julia",
   "version": "1.1.0"
  },
  "kernelspec": {
   "name": "julia-1.1",
   "display_name": "Julia 1.1.0",
   "language": "julia"
  }
 },
 "nbformat": 4
}
